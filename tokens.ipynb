{
 "cells": [
  {
   "cell_type": "code",
   "execution_count": 56,
   "metadata": {},
   "outputs": [
    {
     "name": "stdout",
     "output_type": "stream",
     "text": [
      "enter the expression or stringa=b+c*23-56^2\n",
      "5\n",
      "3\n",
      "5\n",
      "13\n"
     ]
    }
   ],
   "source": [
    "n=input(\"enter the expression or string\")\n",
    "op=0\n",
    "var=0\n",
    "con=0\n",
    "tot=0\n",
    "for i in (n):\n",
    "    if (i==\"=\" or i==\"*\" or i==\"-\" or i==\"^\" or i==\"/\" or i==\"+\"):\n",
    "        op=op+1\n",
    "    if (i.isalpha()):\n",
    "        var=var+1\n",
    "    if (i.isdigit()):\n",
    "        con=con+1\n",
    "\n",
    "print (op)     \n",
    "print (var)\n",
    "print (con)\n",
    "tot=op+var+con\n",
    "print (tot)"
   ]
  }
 ],
 "metadata": {
  "kernelspec": {
   "display_name": "Python 3",
   "language": "python",
   "name": "python3"
  },
  "language_info": {
   "codemirror_mode": {
    "name": "ipython",
    "version": 3
   },
   "file_extension": ".py",
   "mimetype": "text/x-python",
   "name": "python",
   "nbconvert_exporter": "python",
   "pygments_lexer": "ipython3",
   "version": "3.7.6"
  }
 },
 "nbformat": 4,
 "nbformat_minor": 4
}
