{
 "cells": [
  {
   "cell_type": "code",
   "execution_count": 34,
   "metadata": {},
   "outputs": [
    {
     "name": "stdout",
     "output_type": "stream",
     "text": [
      "Enter infix expression(A+(C+D*F+T*A)*B/C)\n",
      "postfix expression: ACDF*+TA*+B*C/+\n"
     ]
    }
   ],
   "source": [
    "x=input('Enter infix expression')\n",
    "def intopost(x): \n",
    "    s=[] \n",
    "    out=''\n",
    "    for i in x:\n",
    "        if (i not in a):  \n",
    "            out+= i\n",
    "        elif (i==')'):\n",
    "            while (s[-1]!= '(' and s):\n",
    "                out+=s.pop()\n",
    "            s.pop()\n",
    "        elif (i=='('):  \n",
    "            s.append('(')    \n",
    "        else:\n",
    "            while (s[-1]!='(' and s and b[i]<=b[s[-1]]):\n",
    "                out+=s.pop()\n",
    "            s.append(i)\n",
    "    while (s):\n",
    "        out+=s.pop()\n",
    "    return out\n",
    "print('postfix expression:',intopost(x))\n",
    "\n",
    "a=set(['+', '-', '*', '/', '(', ')'])  \n",
    "b={'+':1, '-':1, '*':2, '/':2} "
   ]
  },
  {
   "cell_type": "code",
   "execution_count": null,
   "metadata": {},
   "outputs": [],
   "source": []
  }
 ],
 "metadata": {
  "kernelspec": {
   "display_name": "Python 3",
   "language": "python",
   "name": "python3"
  },
  "language_info": {
   "codemirror_mode": {
    "name": "ipython",
    "version": 3
   },
   "file_extension": ".py",
   "mimetype": "text/x-python",
   "name": "python",
   "nbconvert_exporter": "python",
   "pygments_lexer": "ipython3",
   "version": "3.7.6"
  }
 },
 "nbformat": 4,
 "nbformat_minor": 4
}
